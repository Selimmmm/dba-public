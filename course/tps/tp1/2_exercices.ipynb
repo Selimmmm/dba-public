{
 "cells": [
  {
   "cell_type": "markdown",
   "id": "5154a45f-3c7f-4134-b72b-05c1eb5117c5",
   "metadata": {},
   "source": [
    "# Exercice 1: Sélection avec conditions multiples\n",
    "- Afficher tous les order_id et ship_name pour les commandes expédiées en Suisse (ship_country = 'Switzerland') ou en Argentine (ship_country = 'Argentina'), avec un freight supérieur à 20.\n"
   ]
  },
  {
   "cell_type": "markdown",
   "id": "9fb17db2-de97-4755-9e94-281e79ab6499",
   "metadata": {},
   "source": [
    "# Exercice 2: Tri et limite sur sélection filtrée\n",
    "\n",
    "-  Trouver les 5 commandes ayant le plus haut freight, expédiées en 1997 (order_date BETWEEN '1997-01-01' AND '1997-12-31')."
   ]
  },
  {
   "cell_type": "markdown",
   "id": "8f486ec1-76a3-403f-9843-e891adc72073",
   "metadata": {},
   "source": [
    "# Exercice 3: Utilisation de DISTINCT\n",
    "- Lister les combinaisons uniques de ship_country et ship_city pour toutes les commandes.\n"
   ]
  },
  {
   "cell_type": "markdown",
   "id": "1bf5f1bd-4877-42a0-8b31-f42ff101b53a",
   "metadata": {},
   "source": [
    "# Exercice 4: Combiner WHERE, ORDER BY et LIMIT\n",
    "- Afficher les 3 premières commandes (basées sur la order_date) pour les clients en Brésil (ship_country = 'Brazil')."
   ]
  },
  {
   "cell_type": "markdown",
   "id": "0dc9414a-5e93-4986-ad6d-a17d5a708c01",
   "metadata": {},
   "source": [
    "\n",
    "# Exercice 5: Gestion des NULL avec tri et filtrage\n",
    "\n",
    "- Sélectionner toutes les commandes où ship_region est NULL, en les triant par shipped_date en ordre décroissant.\n"
   ]
  },
  {
   "cell_type": "markdown",
   "id": "1bbf3b2a-6237-4c51-9489-474d5d27e046",
   "metadata": {},
   "source": [
    "\n",
    "# Exercice 6: Utilisation de l'opérateur LIKE\n",
    "- Trouver les commandes dont le nom du destinataire (ship_name) commence par 'S'."
   ]
  },
  {
   "cell_type": "markdown",
   "id": "198d5755-c940-43bd-9bd9-eeebfe5167c9",
   "metadata": {},
   "source": [
    "# Exercice 7: Plusieurs avec AND, OR\n",
    "- Sélectionner les commandes expédiées en 'UK' ou 'USA' avec un freight supérieur à 50, et passées avant l'année 1998."
   ]
  },
  {
   "cell_type": "markdown",
   "id": "68b39d0a-76f8-4bf1-b7d1-3f5fe2799b9d",
   "metadata": {},
   "source": [
    "# Exercice 8: Requête plusieurs clauses\n",
    " - Afficher les order_id, la date de commande (order_date), et le nom du destinataire (ship_name) pour les 10 premières commandes passées après le 1er janvier 1997, où la région de livraison (ship_region) est inconnue (NULL), et le pays de livraison (ship_country) n'est ni 'USA' ni 'UK'. Les résultats doivent être triés par le coût du fret (freight) en ordre décroissant. Utiliser un alias pour renommer order_date en DateOfOrder."
   ]
  },
  {
   "cell_type": "code",
   "execution_count": null,
   "id": "d8a1f82d-000d-48f5-b1c1-31ae530091a4",
   "metadata": {},
   "outputs": [],
   "source": [
    "\n",
    "\n",
    "\n",
    " \n",
    "\n",
    "\n",
    "\n"
   ]
  }
 ],
 "metadata": {
  "kernelspec": {
   "display_name": "Python 3 (ipykernel)",
   "language": "python",
   "name": "python3"
  },
  "language_info": {
   "codemirror_mode": {
    "name": "ipython",
    "version": 3
   },
   "file_extension": ".py",
   "mimetype": "text/x-python",
   "name": "python",
   "nbconvert_exporter": "python",
   "pygments_lexer": "ipython3",
   "version": "3.11.2"
  }
 },
 "nbformat": 4,
 "nbformat_minor": 5
}
