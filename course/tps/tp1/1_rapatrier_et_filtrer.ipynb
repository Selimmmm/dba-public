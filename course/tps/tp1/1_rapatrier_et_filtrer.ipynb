{
 "cells": [
  {
   "cell_type": "markdown",
   "id": "b6f010c3-4d00-4da8-ae93-ea516b6514d5",
   "metadata": {},
   "source": [
    "# 1. Rapatrier des données"
   ]
  },
  {
   "cell_type": "markdown",
   "id": "711c6b08-d2ef-4ad6-a363-da19231e1c63",
   "metadata": {},
   "source": [
    "\n",
    "- `SELECT` : rapatrier les données d'une seule table\n",
    "\n",
    "- Alias de colonnes : assigner des noms temporaires aux colonnes ou expressions dans une requête\n",
    "\n",
    "- `ORDER BY` : trier les résultats retournés par une requête\n",
    "\n",
    "- `SELECT DISTINCT` – clause qui élimine les doublons dans les résultats.\n",
    "\n"
   ]
  },
  {
   "cell_type": "markdown",
   "id": "5b8f85e5-8392-41e8-b3fd-834e8c95fb55",
   "metadata": {},
   "source": [
    "## 2. Filtrer les données"
   ]
  },
  {
   "cell_type": "markdown",
   "id": "b5c8290c-dc17-4cb5-a2b4-f55cc23ecb25",
   "metadata": {},
   "source": [
    "- `WHERE` : filtre les lignes en fonction d'une condition spécifiée\n",
    "  \n",
    "- `LIMIT` : obtient un sous-ensemble de lignes généré par une requête\n",
    "  \n",
    "- `FETCH` : limite le nombre de lignes retournées par une requête\n",
    "  \n",
    "- `IN` : sélectionne des données qui correspondent à n'importe quelle valeur dans une liste de valeurs\n",
    "  \n",
    "- `BETWEEN` : sélectionne des données qui se trouvent dans une plage de valeurs\n",
    "  \n",
    "- `LIKE` : filtre les données en fonction d'une correspondance de motif\n",
    "  \n",
    "- `IS NULL` : – vérifie si une valeur est nulle ou non"
   ]
  },
  {
   "cell_type": "code",
   "execution_count": null,
   "id": "64551fa6-db11-4c55-be41-685a05e19ffe",
   "metadata": {},
   "outputs": [],
   "source": []
  }
 ],
 "metadata": {
  "kernelspec": {
   "display_name": "Python 3 (ipykernel)",
   "language": "python",
   "name": "python3"
  },
  "language_info": {
   "codemirror_mode": {
    "name": "ipython",
    "version": 3
   },
   "file_extension": ".py",
   "mimetype": "text/x-python",
   "name": "python",
   "nbconvert_exporter": "python",
   "pygments_lexer": "ipython3",
   "version": "3.11.2"
  }
 },
 "nbformat": 4,
 "nbformat_minor": 5
}
