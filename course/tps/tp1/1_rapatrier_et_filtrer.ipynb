{
 "cells": [
  {
   "cell_type": "markdown",
   "id": "b6f010c3-4d00-4da8-ae93-ea516b6514d5",
   "metadata": {},
   "source": [
    "# 1. Rapatrier des données"
   ]
  },
  {
   "cell_type": "markdown",
   "id": "711c6b08-d2ef-4ad6-a363-da19231e1c63",
   "metadata": {},
   "source": [
    "\n",
    "- `SELECT` : rapatrier les données d'une seule table\n",
    "\n",
    "- Alias de colonnes : assigner des noms temporaires aux colonnes ou expressions dans une requête\n",
    "\n",
    "- `ORDER BY` : trier les résultats retournés par une requête\n",
    "\n",
    "- `SELECT DISTINCT` – clause qui élimine les doublons dans les résultats.\n",
    "\n"
   ]
  },
  {
   "cell_type": "markdown",
   "id": "7323136f-f85a-482e-b329-0f0f9ba407b9",
   "metadata": {},
   "source": [
    "## `SELECT`"
   ]
  },
  {
   "cell_type": "markdown",
   "id": "08ce0975-21a2-4e2c-8e0d-1c630aae35e0",
   "metadata": {},
   "source": [
    "## Requête sur une seule colonne\n",
    "\n",
    "Pour trouver les noms de contacts de tous les clients de la table `customers` :\n",
    "\n",
    "```sql\n",
    "SELECT contact_name FROM customers;\n",
    "```\n",
    "\n",
    "## Requête sur plusieurs colonnes\n",
    "Pour obtenir le nom de contact, le titre de contact et la ville des clients, spécifier ces noms de colonnes dans la clause `SELECT` :\n",
    "\n",
    "```sql\n",
    "SELECT\n",
    "   contact_name,\n",
    "   contact_title,\n",
    "   city\n",
    "FROM\n",
    "   customers;\n",
    "```\n",
    "   \n",
    "## Syntaxe générale de la commande `SELECT`\n",
    "    \n",
    "```sql\n",
    "SELECT\n",
    "   liste_des_sélections\n",
    "FROM\n",
    "   nom_de_la_table;\n",
    "```\n",
    "\n",
    "## Requête sur toutes les colonnes d'une table\n",
    "\n",
    "Pour sélectionner des données de toutes les colonnes de la table customers :\n",
    "\n",
    "```sql\n",
    "SELECT * FROM customers;\n",
    "```\n",
    "\n",
    "## Utilisation de la commande SELECT avec des expressions\n",
    "\n",
    "Pour retourner les noms complets et les villes de tous les clients :\n",
    "\n",
    "\n",
    "```sql\n",
    "SELECT \n",
    "   contact_name || ', ' || city\n",
    "FROM \n",
    "   customers;\n",
    "```"
   ]
  },
  {
   "cell_type": "markdown",
   "id": "6c38f546-fde8-44a7-85a8-3478489db839",
   "metadata": {},
   "source": [
    "## Alias de Colonne\n",
    "\n",
    "### Rapatrier les données avec un nom temporaire pour une colonne :\n",
    "```sql\n",
    "SELECT column_name AS alias_name\n",
    "FROM table_name;\n",
    "```\n",
    "\n",
    "\n",
    "Dans cette syntaxe, column_name est renommé temporairement en alias_name. L'utilisation de 'AS' est optionnelle :\n",
    "\n",
    "```sql\n",
    "SELECT column_name alias_name\n",
    "FROM table_name;\n",
    "```\n",
    "\n",
    "### Alias pour une Expression\n",
    "\n",
    "Définir un alias pour une expression dans la clause SELECT :\n",
    "\n",
    "```sql\n",
    "SELECT expression AS alias_name\n",
    "FROM table_name;\n",
    "```\n",
    "\n",
    "L'objectif principal des alias de colonnes est de rendre les titres des résultats plus clairs.\n",
    "\n",
    "### Exemples d'Alias de Colonnes dans PostgreSQL\n",
    "\n",
    "Rapatrier le prénom et le nom de famille avec un alias 'surname' pour le nom de famille :\n",
    "\n",
    "```sql\n",
    "SELECT\n",
    "first_name,\n",
    "last_name AS surname\n",
    "FROM customers;\n",
    "```\n",
    "\n",
    "Concaténer le prénom et le nom avec un alias 'full_name' :\n",
    "\n",
    "```sql\n",
    "SELECT\n",
    "first_name || ' ' || last_name AS full_name\n",
    "FROM\n",
    "customers;\n",
    "```"
   ]
  },
  {
   "cell_type": "code",
   "execution_count": null,
   "id": "d830e2b5-6fd0-4a22-87bd-7f750c5294e9",
   "metadata": {},
   "outputs": [],
   "source": []
  },
  {
   "cell_type": "code",
   "execution_count": null,
   "id": "d88179b3-94e2-445a-9093-e0354ca05b03",
   "metadata": {},
   "outputs": [],
   "source": []
  },
  {
   "cell_type": "markdown",
   "id": "5b8f85e5-8392-41e8-b3fd-834e8c95fb55",
   "metadata": {},
   "source": [
    "## 2. Filtrer les données"
   ]
  },
  {
   "cell_type": "markdown",
   "id": "b5c8290c-dc17-4cb5-a2b4-f55cc23ecb25",
   "metadata": {},
   "source": [
    "- `WHERE` : filtre les lignes en fonction d'une condition spécifiée\n",
    "  \n",
    "- `LIMIT` : obtient un sous-ensemble de lignes généré par une requête\n",
    "  \n",
    "- `FETCH` : limite le nombre de lignes retournées par une requête\n",
    "  \n",
    "- `IN` : sélectionne des données qui correspondent à n'importe quelle valeur dans une liste de valeurs\n",
    "  \n",
    "- `BETWEEN` : sélectionne des données qui se trouvent dans une plage de valeurs\n",
    "  \n",
    "- `LIKE` : filtre les données en fonction d'une correspondance de motif\n",
    "  \n",
    "- `IS NULL` : – vérifie si une valeur est nulle ou non"
   ]
  },
  {
   "cell_type": "code",
   "execution_count": null,
   "id": "64551fa6-db11-4c55-be41-685a05e19ffe",
   "metadata": {},
   "outputs": [],
   "source": []
  }
 ],
 "metadata": {
  "kernelspec": {
   "display_name": "Python 3 (ipykernel)",
   "language": "python",
   "name": "python3"
  },
  "language_info": {
   "codemirror_mode": {
    "name": "ipython",
    "version": 3
   },
   "file_extension": ".py",
   "mimetype": "text/x-python",
   "name": "python",
   "nbconvert_exporter": "python",
   "pygments_lexer": "ipython3",
   "version": "3.11.2"
  }
 },
 "nbformat": 4,
 "nbformat_minor": 5
}
