{
 "cells": [
  {
   "cell_type": "markdown",
   "id": "0b18b454-e0ba-45c4-a71a-25d64192ae24",
   "metadata": {},
   "source": [
    "# TP-1 BDD NorthWind"
   ]
  },
  {
   "cell_type": "markdown",
   "id": "4192f898-750e-49db-8b63-5448c986b321",
   "metadata": {},
   "source": [
    "# Import des données\n",
    "- Lancer PostgreSQL\n",
    "- Avec la méthode de votre choix (python, invite de commande, VS code...), créer une base de données appelée `northwind`:\n",
    "    ```sql\n",
    "    CREATE DATABASE northwind;\n",
    "    ```\n",
    "\n",
    "**Importer le script dans la base de données :**\n",
    "\n",
    "- Se déplacer dans le répertoire où le fichier SQL a été téléchargé.\n",
    "- Utiliser la commande pour importer le script SQL dans la base de données créée, par exemple :\n",
    "  \n",
    "  ```bash\n",
    "  psql -U nom_utilisateur -d northwind -f data/northwind.sql\n",
    "  ```\n",
    "  \n",
    "  \n",
    "**Vérifier l'installation :**\n",
    "\n",
    "- Après l'importation, se connecter à la base de données Northwind : \\c northwind.\n",
    "- Lister les tables pour confirmer leur création : \\dt.\n"
   ]
  },
  {
   "cell_type": "markdown",
   "id": "a973add0-1162-4d3c-8e1c-e14e7b53de1f",
   "metadata": {},
   "source": [
    "# Northwind\n",
    "\n",
    "[Documentation officielle](https://learn.microsoft.com/fr-fr/power-apps/maker/canvas-apps/northwind-install)\n",
    "\n",
    "\n",
    "La base de données Northwind est un exemple créé par Microsoft. Elle est utilisée pour apprendre à utiliser différentes bases de données. La base de données Northwind contient des données de vente d'une entreprise imaginaire nommée \"Northwind Traders\". Cette entreprise importe et exporte des aliments spéciaux du monde entier. La base de données Northwind représente un petit système de planification des ressources d'entreprise. Elle a des clients, des commandes, un inventaire, des achats, des fournisseurs, des livraisons, des employés et une comptabilité simple. La base de données Northwind est maintenant utilisée avec d'autres systèmes de bases de données, pas seulement ceux de Microsoft, comme PostgreSQL.\n",
    "\n",
    "Données contenues\n",
    "\n",
    "Fournisseurs : Les fournisseurs de Northwind.\n",
    "Clients : Les clients qui achètent des produits de Northwind.\n",
    "Employés : Les détails sur les employés de Northwind Traders.\n",
    "Produits : Les informations sur les produits.\n",
    "Transporteurs : Les détails sur ceux qui livrent les produits aux clients finaux.\n",
    "Commandes et Détails de Commandes : Les transactions de vente entre les clients et l'entreprise.\n",
    "La base de données d'exemple Northwind a 14 tables. Les relations entre ces tables sont montrées dans un diagramme de relations entre entités.\n",
    "\n",
    "\n",
    "# \"Relationship Diagram\"\n",
    "\n",
    "\n",
    "![Schema](../../images/northwind-er-diagram.png)"
   ]
  },
  {
   "cell_type": "markdown",
   "id": "6e8d36bd-c80c-46f7-8fbd-2913889e772b",
   "metadata": {},
   "source": []
  },
  {
   "cell_type": "code",
   "execution_count": null,
   "id": "ba95e975-67f2-4f9b-affa-42bfbd17af88",
   "metadata": {},
   "outputs": [],
   "source": []
  }
 ],
 "metadata": {
  "kernelspec": {
   "display_name": "Python 3 (ipykernel)",
   "language": "python",
   "name": "python3"
  },
  "language_info": {
   "codemirror_mode": {
    "name": "ipython",
    "version": 3
   },
   "file_extension": ".py",
   "mimetype": "text/x-python",
   "name": "python",
   "nbconvert_exporter": "python",
   "pygments_lexer": "ipython3",
   "version": "3.11.2"
  }
 },
 "nbformat": 4,
 "nbformat_minor": 5
}
