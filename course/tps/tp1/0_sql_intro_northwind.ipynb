{
 "cells": [
  {
   "cell_type": "markdown",
   "id": "0b18b454-e0ba-45c4-a71a-25d64192ae24",
   "metadata": {},
   "source": [
    "# TP-1 BDD NorthWind"
   ]
  },
  {
   "cell_type": "markdown",
   "id": "4192f898-750e-49db-8b63-5448c986b321",
   "metadata": {},
   "source": [
    "# Import des données\n",
    "- Lancer PostgreSQL\n",
    "- Avec la méthode de votre choix (python, invite de commande, VS code...), créer une base de données appelée `northwind`:\n",
    "    ```sql\n",
    "    CREATE DATABASE northwind;\n",
    "    ```\n",
    "\n",
    "**Importer le script dans la base de données :**\n",
    "\n",
    "- Se déplacer dans le répertoire où le fichier SQL a été téléchargé.\n",
    "- Utiliser la commande pour importer le script SQL dans la base de données créée, par exemple :\n",
    "  \n",
    "  ```bash\n",
    "  psql -U nom_utilisateur -d northwind -f data/northwind.sql\n",
    "  ```\n",
    "  \n",
    "  \n",
    "**Vérifier l'installation :**\n",
    "\n",
    "- Après l'importation, se connecter à la base de données Northwind : \\c northwind.\n",
    "- Lister les tables pour confirmer leur création : \\dt.\n"
   ]
  },
  {
   "cell_type": "markdown",
   "id": "a973add0-1162-4d3c-8e1c-e14e7b53de1f",
   "metadata": {},
   "source": [
    "# Northwind\n",
    "\n",
    "[Documentation officielle](https://learn.microsoft.com/fr-fr/power-apps/maker/canvas-apps/northwind-install)\n",
    "\n",
    "\n",
    "La base de données Northwind est un exemple créé par Microsoft. Elle est utilisée pour apprendre à utiliser différentes bases de données. La base de données Northwind contient des données de vente d'une entreprise imaginaire nommée \"Northwind Traders\". Cette entreprise importe et exporte des aliments spéciaux du monde entier. La base de données Northwind représente un petit système de planification des ressources d'entreprise. Elle a des clients, des commandes, un inventaire, des achats, des fournisseurs, des livraisons, des employés et une comptabilité simple. La base de données Northwind est maintenant utilisée avec d'autres systèmes de bases de données, pas seulement ceux de Microsoft, comme PostgreSQL.\n",
    "\n",
    "Données contenues\n",
    "\n",
    "Fournisseurs : Les fournisseurs de Northwind.\n",
    "Clients : Les clients qui achètent des produits de Northwind.\n",
    "Employés : Les détails sur les employés de Northwind Traders.\n",
    "Produits : Les informations sur les produits.\n",
    "Transporteurs : Les détails sur ceux qui livrent les produits aux clients finaux.\n",
    "Commandes et Détails de Commandes : Les transactions de vente entre les clients et l'entreprise.\n",
    "La base de données d'exemple Northwind a 14 tables. Les relations entre ces tables sont montrées dans un diagramme de relations entre entités.\n",
    "\n",
    "\n",
    "# \"Relationship Diagram\"\n",
    "\n",
    "\n",
    "![Schema](../../images/northwind-er-diagram.png)"
   ]
  },
  {
   "cell_type": "markdown",
   "id": "6e8d36bd-c80c-46f7-8fbd-2913889e772b",
   "metadata": {},
   "source": [
    "# Explorer la base de données"
   ]
  },
  {
   "cell_type": "markdown",
   "id": "6efaf7b1-52fa-431d-97a9-708a9a9fff60",
   "metadata": {},
   "source": [
    "### Afficher les tables\n",
    "- Pour afficher la liste de toutes les tables dans la base de données Northwind :\n",
    "\n",
    "```sql\n",
    "\\dt\n",
    "```\n",
    "\n",
    "### Informations d'une table\n",
    "- Pour obtenir des informations sur la structure d'une table spécifique, par exemple orders :\n",
    "\n",
    "```sql\n",
    "\\d orders \n",
    "```\n",
    "\n",
    "\n",
    "### Données d'une table\n",
    "- Pour afficher les premières lignes d'une table, par exemple customers :\n",
    "\n",
    "```sql\n",
    "SELECT * FROM customers LIMIT 10 ;\n",
    "```\n",
    "\n",
    "### Relations entre les Tables\n",
    "\n",
    "- Pour explorer les relations entre différentes tables, utiliser des jointures.\n",
    "- Par exemple, pour joindre orders et customers :\n",
    "```sql\n",
    "SELECT o.order_id, c.customer_name\n",
    "FROM orders o\n",
    "JOIN customers c ON o.customer_id = c.customer_id;\n",
    "```\n",
    "\n",
    "\n",
    "### Analyse des Données\n",
    "Pour analyser les données, par exemple, calculer le nombre total de commandes pour chaque client :\n",
    "\n",
    "```sql\n",
    "SELECT customer_id, COUNT(order_id) \n",
    "FROM orders \n",
    "GROUP BY customer_id;\n",
    "```\n",
    "\n",
    "### Requêtes Avancées\n",
    "Pour des requêtes plus avancées, inclure des clauses WHERE, ORDER BY, et LIMIT. Par exemple, obtenir les 5 commandes les plus récentes :\n",
    "\n",
    "\n",
    "```sql\n",
    "SELECT * FROM orders \n",
    "ORDER BY order_date DESC \n",
    "LIMIT 5;\n",
    "```"
   ]
  },
  {
   "cell_type": "code",
   "execution_count": null,
   "id": "bae27893-83b2-4d47-8a47-453bec21fc8b",
   "metadata": {},
   "outputs": [],
   "source": []
  }
 ],
 "metadata": {
  "kernelspec": {
   "display_name": "Python 3 (ipykernel)",
   "language": "python",
   "name": "python3"
  },
  "language_info": {
   "codemirror_mode": {
    "name": "ipython",
    "version": 3
   },
   "file_extension": ".py",
   "mimetype": "text/x-python",
   "name": "python",
   "nbconvert_exporter": "python",
   "pygments_lexer": "ipython3",
   "version": "3.11.2"
  }
 },
 "nbformat": 4,
 "nbformat_minor": 5
}
