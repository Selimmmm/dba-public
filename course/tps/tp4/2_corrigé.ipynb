{
 "cells": [
  {
   "cell_type": "markdown",
   "id": "affc4c6f-fd01-4892-9e14-f6f72fa61c41",
   "metadata": {},
   "source": [
    "```sql\n",
    "-- Création de la table 'categories'\n",
    "CREATE TABLE IF NOT EXISTS categories (\n",
    "    category_id smallint PRIMARY KEY,\n",
    "    category_name character varying(15) NOT NULL,\n",
    "    description text,\n",
    "    picture bytea\n",
    ");\n",
    "\n",
    "-- Création de la table 'suppliers'\n",
    "CREATE TABLE IF NOT EXISTS suppliers (\n",
    "    supplier_id smallint PRIMARY KEY,\n",
    "    company_name character varying(40) NOT NULL,\n",
    "    contact_name character varying(30),\n",
    "    contact_title character varying(30),\n",
    "    address character varying(60),\n",
    "    city character varying(15),\n",
    "    region character varying(15),\n",
    "    postal_code character varying(10),\n",
    "    country character varying(15),\n",
    "    phone character varying(24),\n",
    "    fax character varying(24),\n",
    "    homepage text\n",
    ");\n",
    "\n",
    "-- Création de la table 'products'\n",
    "CREATE TABLE IF NOT EXISTS products (\n",
    "    product_id smallint PRIMARY KEY,\n",
    "    product_name character varying(40) NOT NULL,\n",
    "    supplier_id smallint,\n",
    "    category_id smallint,\n",
    "    quantity_per_unit character varying(20),\n",
    "    unit_price real,\n",
    "    units_in_stock smallint,\n",
    "    units_on_order smallint,\n",
    "    reorder_level smallint,\n",
    "    discontinued integer NOT NULL,\n",
    "    FOREIGN KEY (category_id) REFERENCES categories(category_id),\n",
    "    FOREIGN KEY (supplier_id) REFERENCES suppliers(supplier_id)\n",
    ");\n",
    "```"
   ]
  },
  {
   "cell_type": "markdown",
   "id": "70faa37b-0e80-44bd-859f-4b3024f4292a",
   "metadata": {},
   "source": [
    "```sql\n",
    "-- Insertion de données dans 'categories'\n",
    "INSERT INTO categories (category_id, category_name, description) VALUES (1, 'Beverages', 'Soft drinks, coffees, teas, beers, and ales');\n",
    "INSERT INTO categories (category_id, category_name, description) VALUES (2, 'Condiments', 'Sweet and savory sauces, relishes, spreads, and seasonings');\n",
    "\n",
    "-- Insertion de données dans 'suppliers'\n",
    "INSERT INTO suppliers (supplier_id, company_name, contact_name, contact_title, address, city, region, postal_code, country, phone, fax, homepage) \n",
    "VALUES (1, 'Exotic Liquids', 'Charlotte Cooper', 'Purchasing Manager', '49 Gilbert St.', 'London', NULL, 'EC1 4SD', 'UK', '(171) 555-2222', NULL, NULL);\n",
    "INSERT INTO suppliers (supplier_id, company_name, contact_name, contact_title, address, city, region, postal_code, country, phone, fax, homepage) \n",
    "VALUES (2, 'New Orleans Cajun Delights', 'Shelley Burke', 'Order Administrator', 'P.O. Box 78934', 'New Orleans', 'LA', '70117', 'USA', '(100) 555-4822', NULL, 'http://www.nocajun.com/');\n",
    "\n",
    "-- Insertion de données dans 'products'\n",
    "INSERT INTO products (product_id, product_name, supplier_id, category_id, quantity_per_unit, unit_price, units_in_stock, units_on_order, reorder_level, discontinued) \n",
    "VALUES (1, 'Chai', 1, 1, '10 boxes x 20 bags', 18, 39, 0, 10, 0);\n",
    "INSERT INTO products (product_id, product_name, supplier_id, category_id, quantity_per_unit, unit_price, units_in_stock, units_on_order, reorder_level, discontinued) \n",
    "VALUES (2, 'Chang', 1, 1, '24 - 12 oz bottles', 19, 17, 40, 25, 0);\n",
    "```"
   ]
  },
  {
   "cell_type": "code",
   "execution_count": null,
   "id": "b5cfcceb-7d9b-422a-ac32-552fcd59fac2",
   "metadata": {},
   "outputs": [],
   "source": []
  }
 ],
 "metadata": {
  "kernelspec": {
   "display_name": "Python 3 (ipykernel)",
   "language": "python",
   "name": "python3"
  },
  "language_info": {
   "codemirror_mode": {
    "name": "ipython",
    "version": 3
   },
   "file_extension": ".py",
   "mimetype": "text/x-python",
   "name": "python",
   "nbconvert_exporter": "python",
   "pygments_lexer": "ipython3",
   "version": "3.11.2"
  }
 },
 "nbformat": 4,
 "nbformat_minor": 5
}
