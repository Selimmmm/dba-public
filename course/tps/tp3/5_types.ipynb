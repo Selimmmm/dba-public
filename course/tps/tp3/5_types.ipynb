{
 "cells": [
  {
   "cell_type": "markdown",
   "id": "f1f0878b-af1f-4493-ac15-79a454b8d8fd",
   "metadata": {},
   "source": [
    "# Types de Données de Base\n",
    "\n",
    "- Boolean : stocke les valeurs TRUE et FALSE.\n",
    "\n",
    "\n",
    "- CHAR, VARCHAR, et TEXT : gère différents types de caractères.\n",
    "    - CHAR(n) : chaîne de longueur fixe.\n",
    "    - VARCHAR(n) : chaîne de longueur variable.\n",
    "    - TEXT : texte de longueur illimitée.\n",
    "\n",
    "- NUMERIC : utilisé pour les nombres avec précision requise, par exemple pour la monnaie.\n",
    "\n",
    "- Integer : types entiers : SMALLINT, INT, BIGINT.\n",
    "\n",
    "- DATE : stocke les valeurs de date\n",
    "\n",
    "- Timestamp : pour les datetimes avec time zone, avec ou sans fuseau horaire.\n",
    "\n",
    "- Interval : représente une période, comme '2 jours' ou '1 an'.\n",
    "\n",
    "- TIME : heure précise dans une journée\n",
    "\n",
    "- UUID : type unique universel, généralement pour des identifiants uniques.\n",
    "\n",
    "- Array : stocke des tableaux de valeurs, comme des listes de nombres ou de textes.\n",
    "\n",
    "- hstore : paire clé/valeur pour stocker des données de manière flexible.\n",
    "\n",
    "- JSON : format json"
   ]
  },
  {
   "cell_type": "code",
   "execution_count": null,
   "id": "54a488e5-8e0d-4cae-a77c-f7a836132b50",
   "metadata": {},
   "outputs": [],
   "source": []
  }
 ],
 "metadata": {
  "kernelspec": {
   "display_name": "Python 3 (ipykernel)",
   "language": "python",
   "name": "python3"
  },
  "language_info": {
   "codemirror_mode": {
    "name": "ipython",
    "version": 3
   },
   "file_extension": ".py",
   "mimetype": "text/x-python",
   "name": "python",
   "nbconvert_exporter": "python",
   "pygments_lexer": "ipython3",
   "version": "3.11.2"
  }
 },
 "nbformat": 4,
 "nbformat_minor": 5
}
