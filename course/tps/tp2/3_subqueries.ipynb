{
 "cells": [
  {
   "cell_type": "markdown",
   "id": "86e2a216-2f37-4c88-b7cc-0ca1a8f706f6",
   "metadata": {},
   "source": [
    "# Subqueries\n",
    "## Principe des Subqueries\n",
    "- Une subquery est une requête imbriquée à l'intérieur d'une autre requête.\n",
    "- Elles permettent de créer des conditions complexes, de filtrer des résultats ou de réaliser des calculs basés sur d'autres requêtes.\n",
    "  \n",
    "## Syntaxe\n",
    "\n",
    "- La subquery peut être utilisée dans différentes parties de la requête principale : SELECT, FROM, WHERE.\n",
    "\n",
    "```sql\n",
    "SELECT colonne\n",
    "FROM table\n",
    "WHERE colonne [condition] (SELECT colonne FROM table WHERE condition) ;\n",
    "```\n",
    "\n",
    "## Exemples\n",
    "\n",
    "- Sélectionner tous les produits dont le prix unitaire est supérieur à la moyenne :\n",
    "```sql\n",
    "SELECT product_name, unit_price\n",
    "FROM products\n",
    "WHERE unit_price > (SELECT AVG(unit_price) FROM products) ;\n",
    "```\n",
    "\n",
    "## Utilisation de ANY\n",
    "- Permet de comparer une valeur avec un ensemble de valeurs retourné par une subquery\n",
    "\n",
    "- Trouver les produits dont le unit_price est supérieur à celui de n'importe quel produit de la catégorie 2 :\n",
    "\n",
    "```sql\n",
    "SELECT product_name, unit_price\n",
    "FROM products\n",
    "WHERE unit_price > ANY (SELECT unit_price FROM products WHERE category_id = 2) ;\n",
    "```\n",
    "\n",
    "## Utilisation de ALL\n",
    "- Compare une valeur avec toutes les valeurs retournées par une subquery.\n",
    "- Sélectionner les produits dont le prix est supérieur à tous les prix des produits de la catégorie 3 :\n",
    "```sql\n",
    "SELECT product_name, unit_price\n",
    "FROM products\n",
    "WHERE unit_price > ALL (SELECT unit_price FROM products WHERE category_id = 3) ;\n",
    "```\n",
    "## Utilisation de EXISTS\n",
    "- Vérifie l'existence de lignes retournées par une subquery.\n",
    "- Trouver les produits qui ont au moins une commande en attente (units_on_order > 0) :\n",
    "```sql\n",
    "SELECT product_name\n",
    "FROM products\n",
    "WHERE EXISTS (SELECT 1 FROM products WHERE units_on_order > 0 AND products.product_id = product_id) ;\n",
    "```"
   ]
  },
  {
   "cell_type": "code",
   "execution_count": null,
   "id": "cd3a4d84-788e-4646-983b-308ed948ac66",
   "metadata": {},
   "outputs": [],
   "source": []
  }
 ],
 "metadata": {
  "kernelspec": {
   "display_name": "Python 3 (ipykernel)",
   "language": "python",
   "name": "python3"
  },
  "language_info": {
   "codemirror_mode": {
    "name": "ipython",
    "version": 3
   },
   "file_extension": ".py",
   "mimetype": "text/x-python",
   "name": "python",
   "nbconvert_exporter": "python",
   "pygments_lexer": "ipython3",
   "version": "3.11.2"
  }
 },
 "nbformat": 4,
 "nbformat_minor": 5
}
