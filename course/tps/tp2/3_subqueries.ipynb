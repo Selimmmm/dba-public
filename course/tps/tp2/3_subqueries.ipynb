{
 "cells": [
  {
   "cell_type": "markdown",
   "id": "86e2a216-2f37-4c88-b7cc-0ca1a8f706f6",
   "metadata": {},
   "source": [
    "# Subqueries\n",
    "## Principe des Subqueries\n",
    "- Une subquery est une requête imbriquée à l'intérieur d'une autre requête.\n",
    "- Elles permettent de créer des conditions complexes, de filtrer des résultats ou de réaliser des calculs basés sur d'autres requêtes.\n",
    "  \n",
    "## Syntaxe\n",
    "\n",
    "- La subquery peut être utilisée dans différentes parties de la requête principale : SELECT, FROM, WHERE.\n",
    "\n",
    "```sql\n",
    "SELECT colonne\n",
    "FROM table\n",
    "WHERE colonne [condition] (SELECT colonne FROM table WHERE condition) ;\n",
    "```\n",
    "\n",
    "## Exemples\n",
    "\n",
    "- Sélectionner tous les produits dont le prix unitaire est supérieur à la moyenne :\n",
    "```sql\n",
    "SELECT product_name, unit_price\n",
    "FROM products\n",
    "WHERE unit_price > (SELECT AVG(unit_price) FROM products) ;\n",
    "```\n",
    "\n",
    "## Utilisation de ANY\n",
    "- Permet de comparer une valeur avec un ensemble de valeurs retourné par une subquery\n",
    "\n",
    "- Trouver les produits dont le unit_price est supérieur à celui de n'importe quel produit de la catégorie 2 :\n",
    "\n",
    "```sql\n",
    "SELECT product_name, unit_price\n",
    "FROM products\n",
    "WHERE unit_price > ANY (SELECT unit_price FROM products WHERE category_id = 2) ;\n",
    "```\n",
    "\n",
    "## Utilisation de ALL\n",
    "- Compare une valeur avec toutes les valeurs retournées par une subquery.\n",
    "- Sélectionner les produits dont le prix est supérieur à tous les prix des produits de la catégorie 3 :\n",
    "```sql\n",
    "SELECT product_name, unit_price\n",
    "FROM products\n",
    "WHERE unit_price > ALL (SELECT unit_price FROM products WHERE category_id = 3) ;\n",
    "```\n",
    "## Utilisation de EXISTS\n",
    "- Vérifie l'existence de lignes retournées par une subquery.\n",
    "- Trouver les produits qui ont au moins une commande en attente (units_on_order > 0) :\n",
    "```sql\n",
    "SELECT product_name\n",
    "FROM products\n",
    "WHERE EXISTS (SELECT 1 FROM products WHERE units_on_order > 0 AND products.product_id = product_id) ;\n",
    "```"
   ]
  },
  {
   "cell_type": "markdown",
   "id": "d362d625-2be3-4804-9c71-45369e6ed7bc",
   "metadata": {},
   "source": [
    "# Utilisation d'une subquery dans la Clause FROM\n",
    "\n",
    "- Les résultats de la subquery sont traités comme une table normale par la requête principale\n",
    "- Attention aux performances, il y a un tradeoff entre optimisation et lisibilité malheureusement\n",
    "- L'exercice 4 constitue un exemple\n",
    "  \n",
    "```sql\n",
    "SELECT p.product_name, p.unit_price, p.category_id\n",
    "FROM products p\n",
    "INNER JOIN (\n",
    "    SELECT category_id\n",
    "    FROM products\n",
    "    GROUP BY category_id\n",
    "    HAVING COUNT(product_id) > 3\n",
    ") AS cat_with_more_than_three_products ON p.category_id = cat_with_more_than_three_products.category_id;\n",
    "```"
   ]
  },
  {
   "cell_type": "code",
   "execution_count": null,
   "id": "2f14359b-6541-43cc-ac61-e2b5ec9104e0",
   "metadata": {},
   "outputs": [],
   "source": []
  }
 ],
 "metadata": {
  "kernelspec": {
   "display_name": "Python 3 (ipykernel)",
   "language": "python",
   "name": "python3"
  },
  "language_info": {
   "codemirror_mode": {
    "name": "ipython",
    "version": 3
   },
   "file_extension": ".py",
   "mimetype": "text/x-python",
   "name": "python",
   "nbconvert_exporter": "python",
   "pygments_lexer": "ipython3",
   "version": "3.11.2"
  }
 },
 "nbformat": 4,
 "nbformat_minor": 5
}
