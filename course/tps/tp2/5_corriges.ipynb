{
 "cells": [
  {
   "cell_type": "markdown",
   "id": "b7da048e-4a75-436b-a33d-9b66d8d2dc50",
   "metadata": {},
   "source": [
    "\n",
    "\n",
    "# 1 \n",
    "```sql\n",
    "SELECT product_name\n",
    "FROM products\n",
    "WHERE NOT EXISTS (\n",
    "  SELECT 1 \n",
    "  FROM products p \n",
    "  WHERE p.units_on_order = 0 \n",
    "  AND p.product_name = products.product_name\n",
    ");\n",
    "```\n",
    "\n",
    "# 2\n",
    "\n",
    "```sql\n",
    "SELECT p1.product_name, p1.unit_price\n",
    "FROM products p1\n",
    "WHERE p1.unit_price > (\n",
    "    SELECT AVG(p2.unit_price)\n",
    "    FROM products p2\n",
    "    WHERE p2.category_id = p1.category_id\n",
    ");\n",
    "```\n",
    "\n",
    "# 3\n",
    "\n",
    "```sql\n",
    "SELECT DISTINCT p1.product_name\n",
    "FROM products p1\n",
    "WHERE EXISTS (\n",
    "    SELECT 1 \n",
    "    FROM products p2 \n",
    "    WHERE p2.category_id = 2\n",
    "    AND p2.unit_price > p1.unit_price\n",
    ") ; \n",
    "```"
   ]
  },
  {
   "cell_type": "code",
   "execution_count": null,
   "id": "cc765cb9-8fac-4b3f-bd9c-1d3b3944981f",
   "metadata": {},
   "outputs": [],
   "source": []
  }
 ],
 "metadata": {
  "kernelspec": {
   "display_name": "Python 3 (ipykernel)",
   "language": "python",
   "name": "python3"
  },
  "language_info": {
   "codemirror_mode": {
    "name": "ipython",
    "version": 3
   },
   "file_extension": ".py",
   "mimetype": "text/x-python",
   "name": "python",
   "nbconvert_exporter": "python",
   "pygments_lexer": "ipython3",
   "version": "3.11.2"
  }
 },
 "nbformat": 4,
 "nbformat_minor": 5
}
