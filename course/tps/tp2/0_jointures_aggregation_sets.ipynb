{
 "cells": [
  {
   "cell_type": "markdown",
   "id": "b4b42c5a-ec76-4f02-9c8c-0accdd148e47",
   "metadata": {},
   "source": [
    "# 1. Jointures"
   ]
  },
  {
   "cell_type": "markdown",
   "id": "29ffe80a-a4a6-4af6-bfaa-8f7e8e253b32",
   "metadata": {},
   "source": [
    "# 2. Aggregations"
   ]
  },
  {
   "cell_type": "markdown",
   "id": "eb688c4b-f96c-43e9-b305-ee254fef3065",
   "metadata": {},
   "source": [
    "# 3. Sets"
   ]
  },
  {
   "cell_type": "code",
   "execution_count": null,
   "id": "c9864e6a-d583-425a-8291-fbc042c50498",
   "metadata": {},
   "outputs": [],
   "source": []
  },
  {
   "cell_type": "code",
   "execution_count": null,
   "id": "7d157c18-1790-4b05-9997-9da41db3bbc1",
   "metadata": {},
   "outputs": [],
   "source": []
  }
 ],
 "metadata": {
  "kernelspec": {
   "display_name": "ENV_DBA",
   "language": "python",
   "name": "env_dba"
  },
  "language_info": {
   "codemirror_mode": {
    "name": "ipython",
    "version": 3
   },
   "file_extension": ".py",
   "mimetype": "text/x-python",
   "name": "python",
   "nbconvert_exporter": "python",
   "pygments_lexer": "ipython3",
   "version": "3.11.2"
  }
 },
 "nbformat": 4,
 "nbformat_minor": 5
}
