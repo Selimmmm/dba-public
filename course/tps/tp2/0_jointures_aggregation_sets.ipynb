{
 "cells": [
  {
   "cell_type": "markdown",
   "id": "b4b42c5a-ec76-4f02-9c8c-0accdd148e47",
   "metadata": {},
   "source": [
    "# 1. Jointures\n",
    "\n",
    "## Principe\n",
    "- Lier les données de différentes tables pour créer de nouvelles représentations tabulaires\n",
    "\n",
    "-  Il existe différentes jointures :  pour les principaux : inner join, left join, right join, outer join.\n",
    "\n",
    "\n",
    "![joints](../../images/joints.png)\n",
    "\n",
    "\n",
    "**O utilise principalement left join, inner join, et outer join **\n",
    "\n",
    "## Exemples\n",
    "\n",
    "### Left join\n",
    "- Rejoindre la première table (gauche) avec une seconde (droite), même si certains enregistrements de la première table n'ont pas de correspondance dans la seconde\n",
    "\n",
    "- Les commandes sans produits correspondants auront NULL pour product_name\n",
    "\n",
    "Sur deux tables : \n",
    "```sql\n",
    "SELECT \n",
    "  orders.order_id, \n",
    "  order_details.product_id\n",
    "FROM \n",
    "  orders\n",
    "LEFT JOIN order_details ON orders.order_id = order_details.order_id;\n",
    "```\n",
    "\n",
    "Sur trois tables : \n",
    "```sql\n",
    "SELECT orders.order_id, products.product_name\n",
    "FROM orders\n",
    "LEFT JOIN order_details ON orders.order_id = order_details.order_id\n",
    "LEFT JOIN products ON order_details.product_id = products.product_id ;\n",
    "```\n",
    "\n",
    "\n",
    "### Inner join\n",
    "\n",
    "- Ce code sélectionne les ID de commande et les noms de produits pour chaque commande\n",
    "\n",
    "```sql\n",
    "SELECT \n",
    "  orders.order_id, \n",
    "  order_details.product_id\n",
    "FROM \n",
    "  orders\n",
    "INNER JOIN order_details ON orders.order_id = order_details.order_id ;\n",
    "```\n",
    "\n",
    "\n",
    "\n",
    "\n",
    "### Full outer join\n",
    "\n",
    "- Combinaison de left join et right join\n",
    "- Sélectionner toutes les lignes des deux tables : inclut toutes les commandes et produits, même ceux sans correspondance\n",
    "\n",
    "Sur deux tables : \n",
    "```sql\n",
    "SELECT \n",
    "  orders.order_id, \n",
    "  order_details.product_id\n",
    "FROM \n",
    "  orders\n",
    "FULL OUTER JOIN order_details ON orders.order_id = order_details.order_id;\n",
    "```\n",
    "\n",
    "Sur trois tables : \n",
    "```sql\n",
    "SELECT orders.order_id, products.product_name\n",
    "FROM orders\n",
    "FULL OUTER JOIN order_details ON orders.order_id = order_details.order_id\n",
    "FULL OUTER JOIN products ON order_details.product_id = products.product_id ;\n",
    "```\n",
    "\n",
    "\n",
    "\n",
    "\n",
    "\n",
    "\n",
    "\n"
   ]
  },
  {
   "cell_type": "markdown",
   "id": "29ffe80a-a4a6-4af6-bfaa-8f7e8e253b32",
   "metadata": {},
   "source": [
    "# 2. Aggregations"
   ]
  },
  {
   "cell_type": "markdown",
   "id": "eb688c4b-f96c-43e9-b305-ee254fef3065",
   "metadata": {},
   "source": [
    "# 3. Sets"
   ]
  },
  {
   "cell_type": "code",
   "execution_count": null,
   "id": "c9864e6a-d583-425a-8291-fbc042c50498",
   "metadata": {},
   "outputs": [],
   "source": []
  },
  {
   "cell_type": "code",
   "execution_count": null,
   "id": "7d157c18-1790-4b05-9997-9da41db3bbc1",
   "metadata": {},
   "outputs": [],
   "source": []
  }
 ],
 "metadata": {
  "kernelspec": {
   "display_name": "ENV_DBA",
   "language": "python",
   "name": "env_dba"
  },
  "language_info": {
   "codemirror_mode": {
    "name": "ipython",
    "version": 3
   },
   "file_extension": ".py",
   "mimetype": "text/x-python",
   "name": "python",
   "nbconvert_exporter": "python",
   "pygments_lexer": "ipython3",
   "version": "3.11.2"
  }
 },
 "nbformat": 4,
 "nbformat_minor": 5
}
