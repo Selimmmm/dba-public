{
 "cells": [
  {
   "cell_type": "markdown",
   "id": "0e829f3e-9e3c-4e02-9b00-e46a2c247c56",
   "metadata": {},
   "source": [
    "# Vérification des versions"
   ]
  },
  {
   "cell_type": "code",
   "execution_count": 2,
   "id": "f1ae0176-a21d-4654-a5f4-3dd35d0e4005",
   "metadata": {},
   "outputs": [],
   "source": [
    "import sys\n",
    "assert sys.version_info.major == 3\n",
    "assert sys.version_info.minor == 11\n",
    "assert sys.version_info.micro == 2"
   ]
  },
  {
   "cell_type": "code",
   "execution_count": null,
   "id": "1b3567b1-9f7f-40be-9d1a-f7a7785ab488",
   "metadata": {},
   "outputs": [],
   "source": []
  }
 ],
 "metadata": {
  "kernelspec": {
   "display_name": "ENV_DBA",
   "language": "python",
   "name": "env_dba"
  },
  "language_info": {
   "codemirror_mode": {
    "name": "ipython",
    "version": 3
   },
   "file_extension": ".py",
   "mimetype": "text/x-python",
   "name": "python",
   "nbconvert_exporter": "python",
   "pygments_lexer": "ipython3",
   "version": "3.11.2"
  }
 },
 "nbformat": 4,
 "nbformat_minor": 5
}
