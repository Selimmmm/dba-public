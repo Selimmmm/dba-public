{
 "cells": [
  {
   "cell_type": "markdown",
   "id": "0e829f3e-9e3c-4e02-9b00-e46a2c247c56",
   "metadata": {},
   "source": [
    "# Vérification des versions"
   ]
  },
  {
   "cell_type": "code",
   "execution_count": 3,
   "id": "f1ae0176-a21d-4654-a5f4-3dd35d0e4005",
   "metadata": {},
   "outputs": [],
   "source": [
    "import sys\n",
    "assert sys.version_info.major == 3\n",
    "assert sys.version_info.minor == 11\n",
    "assert sys.version_info.micro == 2"
   ]
  },
  {
   "cell_type": "markdown",
   "id": "61df591d-c333-4e0d-9ebf-f01a3729e630",
   "metadata": {},
   "source": [
    "# Connexion à PostgreSQL Local"
   ]
  },
  {
   "cell_type": "code",
   "execution_count": 6,
   "id": "1b3567b1-9f7f-40be-9d1a-f7a7785ab488",
   "metadata": {},
   "outputs": [
    {
     "name": "stdout",
     "output_type": "stream",
     "text": [
      "('PostgreSQL 14.10 (Homebrew) on x86_64-apple-darwin19.6.0, compiled by Apple clang version 12.0.0 (clang-1200.0.32.21), 64-bit',)\n",
      "postgres\n",
      "template0\n",
      "template1\n",
      "aimth_dev\n",
      "chd\n",
      "pca_mvp_db\n",
      "selim\n",
      "pca-local\n",
      "dbatest\n"
     ]
    }
   ],
   "source": [
    "import psycopg2\n",
    "\n",
    "try:\n",
    "    # Establish a connection to the database\n",
    "    conn = psycopg2.connect(\n",
    "        # Se connecter sans sépcifier une base de données\n",
    "        ## dbname=\"dbatest\", \n",
    "        user=\"selim\", \n",
    "        password=\"\", \n",
    "        host=\"localhost\", \n",
    "        port=\"5432\"\n",
    "    )\n",
    "\n",
    "    # Create a cursor object\n",
    "    cur = conn.cursor()\n",
    "\n",
    "    # Execute a query\n",
    "    cur.execute(\"SELECT version();\")\n",
    "\n",
    "    # Fetch and print the result of the query\n",
    "    db_version = cur.fetchone()\n",
    "    print(db_version)\n",
    "\n",
    "    # Execute a query to fetch all database names\n",
    "    cur.execute(\"SELECT datname FROM pg_database;\")\n",
    "\n",
    "    # Fetch all the results\n",
    "    databases = cur.fetchall()\n",
    "    for db in databases:\n",
    "        print(db[0])\n",
    "\n",
    "    # Close the cursor and connection\n",
    "    cur.close()\n",
    "    conn.close()\n",
    "\n",
    "except psycopg2.Error as e:\n",
    "    print(f\"Error connecting to PostgreSQL database: {e}\")"
   ]
  }
 ],
 "metadata": {
  "kernelspec": {
   "display_name": "ENV_DBA",
   "language": "python",
   "name": "env_dba"
  },
  "language_info": {
   "codemirror_mode": {
    "name": "ipython",
    "version": 3
   },
   "file_extension": ".py",
   "mimetype": "text/x-python",
   "name": "python",
   "nbconvert_exporter": "python",
   "pygments_lexer": "ipython3",
   "version": "3.11.2"
  }
 },
 "nbformat": 4,
 "nbformat_minor": 5
}
