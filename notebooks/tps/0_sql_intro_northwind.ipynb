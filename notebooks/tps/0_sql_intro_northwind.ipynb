{
 "cells": [
  {
   "cell_type": "markdown",
   "id": "0b18b454-e0ba-45c4-a71a-25d64192ae24",
   "metadata": {},
   "source": [
    "# TP-1 BDD NorthWind"
   ]
  },
  {
   "cell_type": "markdown",
   "id": "d7f6b7ea-67bc-4d2f-9ed9-415c537155f5",
   "metadata": {},
   "source": [
    "## Origine des données\n",
    "Ces instructions permettent d'installer et d'utiliser la base de données Northwind : \n",
    "[Documentation officielle](https://learn.microsoft.com/fr-fr/power-apps/maker/canvas-apps/northwind-install)"
   ]
  },
  {
   "cell_type": "markdown",
   "id": "4192f898-750e-49db-8b63-5448c986b321",
   "metadata": {},
   "source": [
    "## Import des données\n",
    "- Lancer PostgreSQL\n",
    "- Avec la méthode de votre choix (python, invite de commande, VS code...), créer une base de données appelée `northwind`:\n",
    "    ```sql\n",
    "    CREATE DATABASE northwind;\n",
    "    ```\n",
    "\n",
    "**Importer le script dans la base de données :**\n",
    "\n",
    "- Se déplacer dans le répertoire où le fichier SQL a été téléchargé.\n",
    "- Utiliser la commande pour importer le script SQL dans la base de données créée, par exemple :\n",
    "  \n",
    "  ```bash\n",
    "  psql -U nom_utilisateur -d northwind -f data/northwind.sql\n",
    "  ```\n",
    "  \n",
    "  \n",
    "**Vérifier l'installation :**\n",
    "\n",
    "- Après l'importation, se connecter à la base de données Northwind : \\c northwind.\n",
    "- Lister les tables pour confirmer leur création : \\dt.\n"
   ]
  },
  {
   "cell_type": "markdown",
   "id": "a973add0-1162-4d3c-8e1c-e14e7b53de1f",
   "metadata": {},
   "source": [
    "# \"Relationship Diagram\"\n",
    "![Schema](../images/northwind-er-diagram.png)"
   ]
  },
  {
   "cell_type": "markdown",
   "id": "6e8d36bd-c80c-46f7-8fbd-2913889e772b",
   "metadata": {},
   "source": []
  },
  {
   "cell_type": "code",
   "execution_count": null,
   "id": "ba95e975-67f2-4f9b-affa-42bfbd17af88",
   "metadata": {},
   "outputs": [],
   "source": []
  }
 ],
 "metadata": {
  "kernelspec": {
   "display_name": "Python 3 (ipykernel)",
   "language": "python",
   "name": "python3"
  },
  "language_info": {
   "codemirror_mode": {
    "name": "ipython",
    "version": 3
   },
   "file_extension": ".py",
   "mimetype": "text/x-python",
   "name": "python",
   "nbconvert_exporter": "python",
   "pygments_lexer": "ipython3",
   "version": "3.11.2"
  }
 },
 "nbformat": 4,
 "nbformat_minor": 5
}
